{
 "cells": [
  {
   "cell_type": "code",
   "execution_count": 1,
   "id": "388894a3-70e6-4326-83a6-75cf5068479c",
   "metadata": {},
   "outputs": [
    {
     "name": "stdout",
     "output_type": "stream",
     "text": [
      "Requirement already satisfied: snowflake-connector-python in c:\\users\\rehul.stark\\appdata\\local\\anaconda3\\lib\\site-packages (3.13.2)\n",
      "Requirement already satisfied: asn1crypto<2.0.0,>0.24.0 in c:\\users\\rehul.stark\\appdata\\local\\anaconda3\\lib\\site-packages (from snowflake-connector-python) (1.5.1)\n",
      "Requirement already satisfied: cffi<2.0.0,>=1.9 in c:\\users\\rehul.stark\\appdata\\local\\anaconda3\\lib\\site-packages (from snowflake-connector-python) (1.17.1)\n",
      "Requirement already satisfied: cryptography>=3.1.0 in c:\\users\\rehul.stark\\appdata\\local\\anaconda3\\lib\\site-packages (from snowflake-connector-python) (43.0.0)\n",
      "Requirement already satisfied: pyOpenSSL<25.0.0,>=22.0.0 in c:\\users\\rehul.stark\\appdata\\local\\anaconda3\\lib\\site-packages (from snowflake-connector-python) (24.2.1)\n",
      "Requirement already satisfied: pyjwt<3.0.0 in c:\\users\\rehul.stark\\appdata\\local\\anaconda3\\lib\\site-packages (from snowflake-connector-python) (2.8.0)\n",
      "Requirement already satisfied: pytz in c:\\users\\rehul.stark\\appdata\\local\\anaconda3\\lib\\site-packages (from snowflake-connector-python) (2024.1)\n",
      "Requirement already satisfied: requests<3.0.0 in c:\\users\\rehul.stark\\appdata\\local\\anaconda3\\lib\\site-packages (from snowflake-connector-python) (2.32.3)\n",
      "Requirement already satisfied: packaging in c:\\users\\rehul.stark\\appdata\\local\\anaconda3\\lib\\site-packages (from snowflake-connector-python) (24.1)\n",
      "Requirement already satisfied: charset_normalizer<4,>=2 in c:\\users\\rehul.stark\\appdata\\local\\anaconda3\\lib\\site-packages (from snowflake-connector-python) (3.3.2)\n",
      "Requirement already satisfied: idna<4,>=2.5 in c:\\users\\rehul.stark\\appdata\\local\\anaconda3\\lib\\site-packages (from snowflake-connector-python) (3.7)\n",
      "Requirement already satisfied: certifi>=2017.4.17 in c:\\users\\rehul.stark\\appdata\\local\\anaconda3\\lib\\site-packages (from snowflake-connector-python) (2024.8.30)\n",
      "Requirement already satisfied: typing_extensions<5,>=4.3 in c:\\users\\rehul.stark\\appdata\\local\\anaconda3\\lib\\site-packages (from snowflake-connector-python) (4.11.0)\n",
      "Requirement already satisfied: filelock<4,>=3.5 in c:\\users\\rehul.stark\\appdata\\local\\anaconda3\\lib\\site-packages (from snowflake-connector-python) (3.13.1)\n",
      "Requirement already satisfied: sortedcontainers>=2.4.0 in c:\\users\\rehul.stark\\appdata\\local\\anaconda3\\lib\\site-packages (from snowflake-connector-python) (2.4.0)\n",
      "Requirement already satisfied: platformdirs<5.0.0,>=2.6.0 in c:\\users\\rehul.stark\\appdata\\local\\anaconda3\\lib\\site-packages (from snowflake-connector-python) (3.10.0)\n",
      "Requirement already satisfied: tomlkit in c:\\users\\rehul.stark\\appdata\\local\\anaconda3\\lib\\site-packages (from snowflake-connector-python) (0.11.1)\n",
      "Requirement already satisfied: pycparser in c:\\users\\rehul.stark\\appdata\\local\\anaconda3\\lib\\site-packages (from cffi<2.0.0,>=1.9->snowflake-connector-python) (2.21)\n",
      "Requirement already satisfied: urllib3<3,>=1.21.1 in c:\\users\\rehul.stark\\appdata\\local\\anaconda3\\lib\\site-packages (from requests<3.0.0->snowflake-connector-python) (2.2.3)\n",
      "Note: you may need to restart the kernel to use updated packages.\n"
     ]
    }
   ],
   "source": [
    "pip install snowflake-connector-python"
   ]
  },
  {
   "cell_type": "code",
   "execution_count": 2,
   "id": "5fecdf37-44d2-46af-b6fe-2f36ca36b1e1",
   "metadata": {},
   "outputs": [
    {
     "name": "stdout",
     "output_type": "stream",
     "text": [
      "Requirement already satisfied: snowflake-sqlalchemy in c:\\users\\rehul.stark\\appdata\\local\\anaconda3\\lib\\site-packages (1.7.3)\n",
      "Requirement already satisfied: snowflake-connector-python<4.0.0 in c:\\users\\rehul.stark\\appdata\\local\\anaconda3\\lib\\site-packages (from snowflake-sqlalchemy) (3.13.2)\n",
      "Requirement already satisfied: sqlalchemy>=1.4.19 in c:\\users\\rehul.stark\\appdata\\local\\anaconda3\\lib\\site-packages (from snowflake-sqlalchemy) (2.0.34)\n",
      "Requirement already satisfied: asn1crypto<2.0.0,>0.24.0 in c:\\users\\rehul.stark\\appdata\\local\\anaconda3\\lib\\site-packages (from snowflake-connector-python<4.0.0->snowflake-sqlalchemy) (1.5.1)\n",
      "Requirement already satisfied: cffi<2.0.0,>=1.9 in c:\\users\\rehul.stark\\appdata\\local\\anaconda3\\lib\\site-packages (from snowflake-connector-python<4.0.0->snowflake-sqlalchemy) (1.17.1)\n",
      "Requirement already satisfied: cryptography>=3.1.0 in c:\\users\\rehul.stark\\appdata\\local\\anaconda3\\lib\\site-packages (from snowflake-connector-python<4.0.0->snowflake-sqlalchemy) (43.0.0)\n",
      "Requirement already satisfied: pyOpenSSL<25.0.0,>=22.0.0 in c:\\users\\rehul.stark\\appdata\\local\\anaconda3\\lib\\site-packages (from snowflake-connector-python<4.0.0->snowflake-sqlalchemy) (24.2.1)\n",
      "Requirement already satisfied: pyjwt<3.0.0 in c:\\users\\rehul.stark\\appdata\\local\\anaconda3\\lib\\site-packages (from snowflake-connector-python<4.0.0->snowflake-sqlalchemy) (2.8.0)\n",
      "Requirement already satisfied: pytz in c:\\users\\rehul.stark\\appdata\\local\\anaconda3\\lib\\site-packages (from snowflake-connector-python<4.0.0->snowflake-sqlalchemy) (2024.1)\n",
      "Requirement already satisfied: requests<3.0.0 in c:\\users\\rehul.stark\\appdata\\local\\anaconda3\\lib\\site-packages (from snowflake-connector-python<4.0.0->snowflake-sqlalchemy) (2.32.3)\n",
      "Requirement already satisfied: packaging in c:\\users\\rehul.stark\\appdata\\local\\anaconda3\\lib\\site-packages (from snowflake-connector-python<4.0.0->snowflake-sqlalchemy) (24.1)\n",
      "Requirement already satisfied: charset_normalizer<4,>=2 in c:\\users\\rehul.stark\\appdata\\local\\anaconda3\\lib\\site-packages (from snowflake-connector-python<4.0.0->snowflake-sqlalchemy) (3.3.2)\n",
      "Requirement already satisfied: idna<4,>=2.5 in c:\\users\\rehul.stark\\appdata\\local\\anaconda3\\lib\\site-packages (from snowflake-connector-python<4.0.0->snowflake-sqlalchemy) (3.7)\n",
      "Requirement already satisfied: certifi>=2017.4.17 in c:\\users\\rehul.stark\\appdata\\local\\anaconda3\\lib\\site-packages (from snowflake-connector-python<4.0.0->snowflake-sqlalchemy) (2024.8.30)\n",
      "Requirement already satisfied: typing_extensions<5,>=4.3 in c:\\users\\rehul.stark\\appdata\\local\\anaconda3\\lib\\site-packages (from snowflake-connector-python<4.0.0->snowflake-sqlalchemy) (4.11.0)\n",
      "Requirement already satisfied: filelock<4,>=3.5 in c:\\users\\rehul.stark\\appdata\\local\\anaconda3\\lib\\site-packages (from snowflake-connector-python<4.0.0->snowflake-sqlalchemy) (3.13.1)\n",
      "Requirement already satisfied: sortedcontainers>=2.4.0 in c:\\users\\rehul.stark\\appdata\\local\\anaconda3\\lib\\site-packages (from snowflake-connector-python<4.0.0->snowflake-sqlalchemy) (2.4.0)\n",
      "Requirement already satisfied: platformdirs<5.0.0,>=2.6.0 in c:\\users\\rehul.stark\\appdata\\local\\anaconda3\\lib\\site-packages (from snowflake-connector-python<4.0.0->snowflake-sqlalchemy) (3.10.0)\n",
      "Requirement already satisfied: tomlkit in c:\\users\\rehul.stark\\appdata\\local\\anaconda3\\lib\\site-packages (from snowflake-connector-python<4.0.0->snowflake-sqlalchemy) (0.11.1)\n",
      "Requirement already satisfied: greenlet!=0.4.17 in c:\\users\\rehul.stark\\appdata\\local\\anaconda3\\lib\\site-packages (from sqlalchemy>=1.4.19->snowflake-sqlalchemy) (3.0.1)\n",
      "Requirement already satisfied: pycparser in c:\\users\\rehul.stark\\appdata\\local\\anaconda3\\lib\\site-packages (from cffi<2.0.0,>=1.9->snowflake-connector-python<4.0.0->snowflake-sqlalchemy) (2.21)\n",
      "Requirement already satisfied: urllib3<3,>=1.21.1 in c:\\users\\rehul.stark\\appdata\\local\\anaconda3\\lib\\site-packages (from requests<3.0.0->snowflake-connector-python<4.0.0->snowflake-sqlalchemy) (2.2.3)\n",
      "Note: you may need to restart the kernel to use updated packages.\n"
     ]
    }
   ],
   "source": [
    "pip install snowflake-sqlalchemy"
   ]
  },
  {
   "cell_type": "code",
   "execution_count": 3,
   "id": "4283f672-bc1e-4207-86e9-9e7b9693b69a",
   "metadata": {},
   "outputs": [
    {
     "name": "stdout",
     "output_type": "stream",
     "text": [
      "Requirement already satisfied: snowflake-connector-python[pandas] in c:\\users\\rehul.stark\\appdata\\local\\anaconda3\\lib\\site-packages (3.13.2)\n",
      "Requirement already satisfied: asn1crypto<2.0.0,>0.24.0 in c:\\users\\rehul.stark\\appdata\\local\\anaconda3\\lib\\site-packages (from snowflake-connector-python[pandas]) (1.5.1)\n",
      "Requirement already satisfied: cffi<2.0.0,>=1.9 in c:\\users\\rehul.stark\\appdata\\local\\anaconda3\\lib\\site-packages (from snowflake-connector-python[pandas]) (1.17.1)\n",
      "Requirement already satisfied: cryptography>=3.1.0 in c:\\users\\rehul.stark\\appdata\\local\\anaconda3\\lib\\site-packages (from snowflake-connector-python[pandas]) (43.0.0)\n",
      "Requirement already satisfied: pyOpenSSL<25.0.0,>=22.0.0 in c:\\users\\rehul.stark\\appdata\\local\\anaconda3\\lib\\site-packages (from snowflake-connector-python[pandas]) (24.2.1)\n",
      "Requirement already satisfied: pyjwt<3.0.0 in c:\\users\\rehul.stark\\appdata\\local\\anaconda3\\lib\\site-packages (from snowflake-connector-python[pandas]) (2.8.0)\n",
      "Requirement already satisfied: pytz in c:\\users\\rehul.stark\\appdata\\local\\anaconda3\\lib\\site-packages (from snowflake-connector-python[pandas]) (2024.1)\n",
      "Requirement already satisfied: requests<3.0.0 in c:\\users\\rehul.stark\\appdata\\local\\anaconda3\\lib\\site-packages (from snowflake-connector-python[pandas]) (2.32.3)\n",
      "Requirement already satisfied: packaging in c:\\users\\rehul.stark\\appdata\\local\\anaconda3\\lib\\site-packages (from snowflake-connector-python[pandas]) (24.1)\n",
      "Requirement already satisfied: charset_normalizer<4,>=2 in c:\\users\\rehul.stark\\appdata\\local\\anaconda3\\lib\\site-packages (from snowflake-connector-python[pandas]) (3.3.2)\n",
      "Requirement already satisfied: idna<4,>=2.5 in c:\\users\\rehul.stark\\appdata\\local\\anaconda3\\lib\\site-packages (from snowflake-connector-python[pandas]) (3.7)\n",
      "Requirement already satisfied: certifi>=2017.4.17 in c:\\users\\rehul.stark\\appdata\\local\\anaconda3\\lib\\site-packages (from snowflake-connector-python[pandas]) (2024.8.30)\n",
      "Requirement already satisfied: typing_extensions<5,>=4.3 in c:\\users\\rehul.stark\\appdata\\local\\anaconda3\\lib\\site-packages (from snowflake-connector-python[pandas]) (4.11.0)\n",
      "Requirement already satisfied: filelock<4,>=3.5 in c:\\users\\rehul.stark\\appdata\\local\\anaconda3\\lib\\site-packages (from snowflake-connector-python[pandas]) (3.13.1)\n",
      "Requirement already satisfied: sortedcontainers>=2.4.0 in c:\\users\\rehul.stark\\appdata\\local\\anaconda3\\lib\\site-packages (from snowflake-connector-python[pandas]) (2.4.0)\n",
      "Requirement already satisfied: platformdirs<5.0.0,>=2.6.0 in c:\\users\\rehul.stark\\appdata\\local\\anaconda3\\lib\\site-packages (from snowflake-connector-python[pandas]) (3.10.0)\n",
      "Requirement already satisfied: tomlkit in c:\\users\\rehul.stark\\appdata\\local\\anaconda3\\lib\\site-packages (from snowflake-connector-python[pandas]) (0.11.1)\n",
      "Requirement already satisfied: pandas<3.0.0,>=1.0.0 in c:\\users\\rehul.stark\\appdata\\local\\anaconda3\\lib\\site-packages (from snowflake-connector-python[pandas]) (2.2.2)\n",
      "Requirement already satisfied: pyarrow in c:\\users\\rehul.stark\\appdata\\local\\anaconda3\\lib\\site-packages (from snowflake-connector-python[pandas]) (16.1.0)\n",
      "Requirement already satisfied: pycparser in c:\\users\\rehul.stark\\appdata\\local\\anaconda3\\lib\\site-packages (from cffi<2.0.0,>=1.9->snowflake-connector-python[pandas]) (2.21)\n",
      "Requirement already satisfied: numpy>=1.26.0 in c:\\users\\rehul.stark\\appdata\\local\\anaconda3\\lib\\site-packages (from pandas<3.0.0,>=1.0.0->snowflake-connector-python[pandas]) (1.26.4)\n",
      "Requirement already satisfied: python-dateutil>=2.8.2 in c:\\users\\rehul.stark\\appdata\\local\\anaconda3\\lib\\site-packages (from pandas<3.0.0,>=1.0.0->snowflake-connector-python[pandas]) (2.9.0.post0)\n",
      "Requirement already satisfied: tzdata>=2022.7 in c:\\users\\rehul.stark\\appdata\\local\\anaconda3\\lib\\site-packages (from pandas<3.0.0,>=1.0.0->snowflake-connector-python[pandas]) (2023.3)\n",
      "Requirement already satisfied: urllib3<3,>=1.21.1 in c:\\users\\rehul.stark\\appdata\\local\\anaconda3\\lib\\site-packages (from requests<3.0.0->snowflake-connector-python[pandas]) (2.2.3)\n",
      "Requirement already satisfied: six>=1.5 in c:\\users\\rehul.stark\\appdata\\local\\anaconda3\\lib\\site-packages (from python-dateutil>=2.8.2->pandas<3.0.0,>=1.0.0->snowflake-connector-python[pandas]) (1.16.0)\n",
      "Note: you may need to restart the kernel to use updated packages.\n"
     ]
    }
   ],
   "source": [
    "pip install \"snowflake-connector-python[pandas]\""
   ]
  },
  {
   "cell_type": "code",
   "execution_count": 10,
   "id": "b996e9c4-383b-4a55-911c-88bf55772b9d",
   "metadata": {},
   "outputs": [],
   "source": [
    "import numpy as np\n",
    "import pandas as pd"
   ]
  },
  {
   "cell_type": "code",
   "execution_count": 11,
   "id": "c6f64ea7-95d9-4345-aa1a-b029f65408c1",
   "metadata": {},
   "outputs": [],
   "source": [
    "import matplotlib.pyplot as plt"
   ]
  },
  {
   "cell_type": "code",
   "execution_count": 12,
   "id": "4c724bbf-ec37-4045-8b6f-db985da5cc79",
   "metadata": {},
   "outputs": [],
   "source": [
    "import getpass"
   ]
  },
  {
   "cell_type": "code",
   "execution_count": 13,
   "id": "cd29d703-c56a-4c6a-a349-0ab02154e94c",
   "metadata": {},
   "outputs": [],
   "source": [
    "%matplotlib inline\n",
    "import snowflake.connector"
   ]
  },
  {
   "cell_type": "code",
   "execution_count": 14,
   "id": "8845172e-cd72-469f-99e5-80e5e9bcbd43",
   "metadata": {},
   "outputs": [],
   "source": [
    "from sklearn.preprocessing import StandardScaler\n",
    "from sklearn.cluster import KMeans\n",
    "import seaborn as sns"
   ]
  },
  {
   "cell_type": "code",
   "execution_count": 23,
   "id": "a845d39a-4e9d-4b70-9368-f67b79dce4ac",
   "metadata": {},
   "outputs": [
    {
     "name": "stdin",
     "output_type": "stream",
     "text": [
      "Your Snowflake Password: ········\n"
     ]
    }
   ],
   "source": [
    "conn=snowflake.connector.connect(\n",
    "user='RAHUL11',\n",
    "password = getpass.getpass('Your Snowflake Password:'),\n",
    "##password='HOST@1857',\n",
    "account='FJRYTOK-VS23514',\n",
    "database='customer_segmentation',\n",
    "schema= 'SEGMENT',\n",
    "warehouse='COMPUTE_WH',\n",
    ")"
   ]
  },
  {
   "cell_type": "code",
   "execution_count": 24,
   "id": "b25f9b91-7516-42b1-a490-ba61aa551c90",
   "metadata": {},
   "outputs": [],
   "source": [
    "cur = conn.cursor()"
   ]
  },
  {
   "cell_type": "code",
   "execution_count": 25,
   "id": "ad9c7c54-599c-4973-bf9a-5005d18fa359",
   "metadata": {},
   "outputs": [],
   "source": [
    "Select_CUSTOMER_TRANX_UNQ = 'SELECT * FROM CUSTOMER_TRANX_UNQ'"
   ]
  },
  {
   "cell_type": "code",
   "execution_count": 29,
   "id": "33a9d189-1360-43c1-9549-d28ab85bd7d9",
   "metadata": {},
   "outputs": [
    {
     "data": {
      "text/html": [
       "<div>\n",
       "<style scoped>\n",
       "    .dataframe tbody tr th:only-of-type {\n",
       "        vertical-align: middle;\n",
       "    }\n",
       "\n",
       "    .dataframe tbody tr th {\n",
       "        vertical-align: top;\n",
       "    }\n",
       "\n",
       "    .dataframe thead th {\n",
       "        text-align: right;\n",
       "    }\n",
       "</style>\n",
       "<table border=\"1\" class=\"dataframe\">\n",
       "  <thead>\n",
       "    <tr style=\"text-align: right;\">\n",
       "      <th></th>\n",
       "      <th>CUSTOMER_ID</th>\n",
       "      <th>GENDER</th>\n",
       "      <th>AGE</th>\n",
       "      <th>COUNTRY</th>\n",
       "      <th>SIGNUP_DATE</th>\n",
       "      <th>TOTAL_ORDERS</th>\n",
       "      <th>TOTAL_SPENT</th>\n",
       "      <th>AVG_ORDER_VALUE</th>\n",
       "      <th>LAST_ORDER_DATE</th>\n",
       "      <th>IS_LOYAL_CUSTOMER</th>\n",
       "    </tr>\n",
       "  </thead>\n",
       "  <tbody>\n",
       "    <tr>\n",
       "      <th>0</th>\n",
       "      <td>1</td>\n",
       "      <td>Female</td>\n",
       "      <td>28</td>\n",
       "      <td>US</td>\n",
       "      <td>2022-04-05</td>\n",
       "      <td>6</td>\n",
       "      <td>696</td>\n",
       "      <td>116</td>\n",
       "      <td>2022-10-23</td>\n",
       "      <td>FALSE</td>\n",
       "    </tr>\n",
       "    <tr>\n",
       "      <th>1</th>\n",
       "      <td>2</td>\n",
       "      <td>Male</td>\n",
       "      <td>40</td>\n",
       "      <td>Australia</td>\n",
       "      <td>2020-06-16</td>\n",
       "      <td>11</td>\n",
       "      <td>1056</td>\n",
       "      <td>96</td>\n",
       "      <td>2023-04-27</td>\n",
       "      <td>TRUE</td>\n",
       "    </tr>\n",
       "    <tr>\n",
       "      <th>2</th>\n",
       "      <td>3</td>\n",
       "      <td>Male</td>\n",
       "      <td>30</td>\n",
       "      <td>India</td>\n",
       "      <td>2023-02-07</td>\n",
       "      <td>10</td>\n",
       "      <td>382</td>\n",
       "      <td>38</td>\n",
       "      <td>2026-01-08</td>\n",
       "      <td>FALSE</td>\n",
       "    </tr>\n",
       "    <tr>\n",
       "      <th>3</th>\n",
       "      <td>4</td>\n",
       "      <td>Female</td>\n",
       "      <td>27</td>\n",
       "      <td>India</td>\n",
       "      <td>2022-06-09</td>\n",
       "      <td>1</td>\n",
       "      <td>35</td>\n",
       "      <td>35</td>\n",
       "      <td>2024-05-17</td>\n",
       "      <td>FALSE</td>\n",
       "    </tr>\n",
       "    <tr>\n",
       "      <th>4</th>\n",
       "      <td>5</td>\n",
       "      <td>Female</td>\n",
       "      <td>28</td>\n",
       "      <td>Australia</td>\n",
       "      <td>2021-02-03</td>\n",
       "      <td>5</td>\n",
       "      <td>467</td>\n",
       "      <td>93</td>\n",
       "      <td>2025-02-18</td>\n",
       "      <td>FALSE</td>\n",
       "    </tr>\n",
       "  </tbody>\n",
       "</table>\n",
       "</div>"
      ],
      "text/plain": [
       "   CUSTOMER_ID  GENDER  AGE    COUNTRY SIGNUP_DATE  TOTAL_ORDERS  TOTAL_SPENT  \\\n",
       "0            1  Female   28         US  2022-04-05             6          696   \n",
       "1            2    Male   40  Australia  2020-06-16            11         1056   \n",
       "2            3    Male   30      India  2023-02-07            10          382   \n",
       "3            4  Female   27      India  2022-06-09             1           35   \n",
       "4            5  Female   28  Australia  2021-02-03             5          467   \n",
       "\n",
       "   AVG_ORDER_VALUE LAST_ORDER_DATE IS_LOYAL_CUSTOMER  \n",
       "0              116      2022-10-23             FALSE  \n",
       "1               96      2023-04-27              TRUE  \n",
       "2               38      2026-01-08             FALSE  \n",
       "3               35      2024-05-17             FALSE  \n",
       "4               93      2025-02-18             FALSE  "
      ]
     },
     "execution_count": 29,
     "metadata": {},
     "output_type": "execute_result"
    }
   ],
   "source": [
    "cur.execute(Select_CUSTOMER_TRANX_UNQ)\n",
    "Select_CUSTOMER_TRANX_UNQ = pd.DataFrame(cur.fetch_pandas_all())\n",
    "Select_CUSTOMER_TRANX_UNQ.head()"
   ]
  },
  {
   "cell_type": "code",
   "execution_count": 30,
   "id": "68926a09-8f45-4997-bdf1-e938ec649f90",
   "metadata": {},
   "outputs": [],
   "source": [
    "cur.close()\n",
    "conn.close()"
   ]
  },
  {
   "cell_type": "code",
   "execution_count": 32,
   "id": "990d6d7e-77c7-42ea-b646-707e93daf81e",
   "metadata": {},
   "outputs": [
    {
     "data": {
      "text/plain": [
       "(200000, 10)"
      ]
     },
     "execution_count": 32,
     "metadata": {},
     "output_type": "execute_result"
    }
   ],
   "source": [
    "Select_CUSTOMER_TRANX_UNQ.shape"
   ]
  },
  {
   "cell_type": "code",
   "execution_count": 34,
   "id": "a2094b6c-291c-4404-b40e-44d2e113314d",
   "metadata": {},
   "outputs": [
    {
     "data": {
      "text/plain": [
       "CUSTOMER_ID          0\n",
       "GENDER               0\n",
       "AGE                  0\n",
       "COUNTRY              0\n",
       "SIGNUP_DATE          0\n",
       "TOTAL_ORDERS         0\n",
       "TOTAL_SPENT          0\n",
       "AVG_ORDER_VALUE      0\n",
       "LAST_ORDER_DATE      0\n",
       "IS_LOYAL_CUSTOMER    0\n",
       "dtype: int64"
      ]
     },
     "execution_count": 34,
     "metadata": {},
     "output_type": "execute_result"
    }
   ],
   "source": [
    "Select_CUSTOMER_TRANX_UNQ.isnull().sum()"
   ]
  },
  {
   "cell_type": "code",
   "execution_count": 37,
   "id": "a09ca91c-7e8f-4c33-ba23-527d1fedf831",
   "metadata": {},
   "outputs": [
    {
     "data": {
      "text/html": [
       "<div>\n",
       "<style scoped>\n",
       "    .dataframe tbody tr th:only-of-type {\n",
       "        vertical-align: middle;\n",
       "    }\n",
       "\n",
       "    .dataframe tbody tr th {\n",
       "        vertical-align: top;\n",
       "    }\n",
       "\n",
       "    .dataframe thead th {\n",
       "        text-align: right;\n",
       "    }\n",
       "</style>\n",
       "<table border=\"1\" class=\"dataframe\">\n",
       "  <thead>\n",
       "    <tr style=\"text-align: right;\">\n",
       "      <th></th>\n",
       "      <th>CUSTOMER_ID</th>\n",
       "      <th>AGE</th>\n",
       "      <th>TOTAL_ORDERS</th>\n",
       "      <th>TOTAL_SPENT</th>\n",
       "      <th>AVG_ORDER_VALUE</th>\n",
       "    </tr>\n",
       "  </thead>\n",
       "  <tbody>\n",
       "    <tr>\n",
       "      <th>count</th>\n",
       "      <td>200000.000000</td>\n",
       "      <td>200000.00000</td>\n",
       "      <td>200000.000000</td>\n",
       "      <td>200000.000000</td>\n",
       "      <td>200000.000000</td>\n",
       "    </tr>\n",
       "    <tr>\n",
       "      <th>mean</th>\n",
       "      <td>100000.500000</td>\n",
       "      <td>43.48895</td>\n",
       "      <td>8.005090</td>\n",
       "      <td>720.792455</td>\n",
       "      <td>90.026780</td>\n",
       "    </tr>\n",
       "    <tr>\n",
       "      <th>std</th>\n",
       "      <td>57735.171256</td>\n",
       "      <td>15.00757</td>\n",
       "      <td>2.829167</td>\n",
       "      <td>388.623625</td>\n",
       "      <td>34.662743</td>\n",
       "    </tr>\n",
       "    <tr>\n",
       "      <th>min</th>\n",
       "      <td>1.000000</td>\n",
       "      <td>18.00000</td>\n",
       "      <td>0.000000</td>\n",
       "      <td>0.000000</td>\n",
       "      <td>0.000000</td>\n",
       "    </tr>\n",
       "    <tr>\n",
       "      <th>25%</th>\n",
       "      <td>50000.750000</td>\n",
       "      <td>31.00000</td>\n",
       "      <td>6.000000</td>\n",
       "      <td>417.000000</td>\n",
       "      <td>60.000000</td>\n",
       "    </tr>\n",
       "    <tr>\n",
       "      <th>50%</th>\n",
       "      <td>100000.500000</td>\n",
       "      <td>43.00000</td>\n",
       "      <td>8.000000</td>\n",
       "      <td>655.000000</td>\n",
       "      <td>90.000000</td>\n",
       "    </tr>\n",
       "    <tr>\n",
       "      <th>75%</th>\n",
       "      <td>150000.250000</td>\n",
       "      <td>56.00000</td>\n",
       "      <td>10.000000</td>\n",
       "      <td>958.000000</td>\n",
       "      <td>120.000000</td>\n",
       "    </tr>\n",
       "    <tr>\n",
       "      <th>max</th>\n",
       "      <td>200000.000000</td>\n",
       "      <td>69.00000</td>\n",
       "      <td>23.000000</td>\n",
       "      <td>3101.000000</td>\n",
       "      <td>150.000000</td>\n",
       "    </tr>\n",
       "  </tbody>\n",
       "</table>\n",
       "</div>"
      ],
      "text/plain": [
       "         CUSTOMER_ID           AGE   TOTAL_ORDERS    TOTAL_SPENT  \\\n",
       "count  200000.000000  200000.00000  200000.000000  200000.000000   \n",
       "mean   100000.500000      43.48895       8.005090     720.792455   \n",
       "std     57735.171256      15.00757       2.829167     388.623625   \n",
       "min         1.000000      18.00000       0.000000       0.000000   \n",
       "25%     50000.750000      31.00000       6.000000     417.000000   \n",
       "50%    100000.500000      43.00000       8.000000     655.000000   \n",
       "75%    150000.250000      56.00000      10.000000     958.000000   \n",
       "max    200000.000000      69.00000      23.000000    3101.000000   \n",
       "\n",
       "       AVG_ORDER_VALUE  \n",
       "count    200000.000000  \n",
       "mean         90.026780  \n",
       "std          34.662743  \n",
       "min           0.000000  \n",
       "25%          60.000000  \n",
       "50%          90.000000  \n",
       "75%         120.000000  \n",
       "max         150.000000  "
      ]
     },
     "execution_count": 37,
     "metadata": {},
     "output_type": "execute_result"
    }
   ],
   "source": [
    "Select_CUSTOMER_TRANX_UNQ.describe()"
   ]
  },
  {
   "cell_type": "code",
   "execution_count": 40,
   "id": "58c3c0d5-50c3-457a-8fef-4c9062c1835f",
   "metadata": {},
   "outputs": [
    {
     "data": {
      "text/plain": [
       "CUSTOMER_ID           int32\n",
       "GENDER               object\n",
       "AGE                    int8\n",
       "COUNTRY              object\n",
       "SIGNUP_DATE          object\n",
       "TOTAL_ORDERS           int8\n",
       "TOTAL_SPENT           int16\n",
       "AVG_ORDER_VALUE       int16\n",
       "LAST_ORDER_DATE      object\n",
       "IS_LOYAL_CUSTOMER    object\n",
       "dtype: object"
      ]
     },
     "execution_count": 40,
     "metadata": {},
     "output_type": "execute_result"
    }
   ],
   "source": [
    "Select_CUSTOMER_TRANX_UNQ.dtypes"
   ]
  },
  {
   "cell_type": "markdown",
   "id": "05c143fb-d1a6-4eb6-b3b8-99a0f55d5ede",
   "metadata": {},
   "source": [
    "## Python — K-Means Segmentation"
   ]
  },
  {
   "cell_type": "code",
   "execution_count": 42,
   "id": "1adfaa98-f439-430a-b850-1a8b9ac94335",
   "metadata": {},
   "outputs": [],
   "source": [
    "df = Select_CUSTOMER_TRANX_UNQ"
   ]
  },
  {
   "cell_type": "code",
   "execution_count": 44,
   "id": "3d706c07-6c8b-42f7-9805-b0def8feac05",
   "metadata": {},
   "outputs": [],
   "source": [
    "# Optional filtering (e.g., remove very low-order customers)\n",
    "df = df[df['TOTAL_ORDERS'] > 1]"
   ]
  },
  {
   "cell_type": "code",
   "execution_count": 50,
   "id": "6900a7ac-5ae8-485f-874a-6e30bf9e0d45",
   "metadata": {},
   "outputs": [
    {
     "data": {
      "text/plain": [
       "(199377, 11)"
      ]
     },
     "execution_count": 50,
     "metadata": {},
     "output_type": "execute_result"
    }
   ],
   "source": [
    "df.shape"
   ]
  },
  {
   "cell_type": "code",
   "execution_count": 45,
   "id": "704de2a8-0671-42b3-b8e2-425d11e9a91d",
   "metadata": {},
   "outputs": [],
   "source": [
    "# Select features for clustering---Filter columns for clustring\n",
    "features = ['AGE', 'TOTAL_ORDERS', 'TOTAL_SPENT', 'AVG_ORDER_VALUE']\n",
    "X = df[features]"
   ]
  },
  {
   "cell_type": "code",
   "execution_count": 53,
   "id": "798b3f69-3459-431f-a9d8-ad7e304bb428",
   "metadata": {},
   "outputs": [
    {
     "data": {
      "text/html": [
       "<div>\n",
       "<style scoped>\n",
       "    .dataframe tbody tr th:only-of-type {\n",
       "        vertical-align: middle;\n",
       "    }\n",
       "\n",
       "    .dataframe tbody tr th {\n",
       "        vertical-align: top;\n",
       "    }\n",
       "\n",
       "    .dataframe thead th {\n",
       "        text-align: right;\n",
       "    }\n",
       "</style>\n",
       "<table border=\"1\" class=\"dataframe\">\n",
       "  <thead>\n",
       "    <tr style=\"text-align: right;\">\n",
       "      <th></th>\n",
       "      <th>AGE</th>\n",
       "      <th>TOTAL_ORDERS</th>\n",
       "      <th>TOTAL_SPENT</th>\n",
       "      <th>AVG_ORDER_VALUE</th>\n",
       "    </tr>\n",
       "  </thead>\n",
       "  <tbody>\n",
       "    <tr>\n",
       "      <th>0</th>\n",
       "      <td>28</td>\n",
       "      <td>6</td>\n",
       "      <td>696</td>\n",
       "      <td>116</td>\n",
       "    </tr>\n",
       "    <tr>\n",
       "      <th>1</th>\n",
       "      <td>40</td>\n",
       "      <td>11</td>\n",
       "      <td>1056</td>\n",
       "      <td>96</td>\n",
       "    </tr>\n",
       "    <tr>\n",
       "      <th>2</th>\n",
       "      <td>30</td>\n",
       "      <td>10</td>\n",
       "      <td>382</td>\n",
       "      <td>38</td>\n",
       "    </tr>\n",
       "    <tr>\n",
       "      <th>4</th>\n",
       "      <td>28</td>\n",
       "      <td>5</td>\n",
       "      <td>467</td>\n",
       "      <td>93</td>\n",
       "    </tr>\n",
       "    <tr>\n",
       "      <th>5</th>\n",
       "      <td>65</td>\n",
       "      <td>11</td>\n",
       "      <td>773</td>\n",
       "      <td>70</td>\n",
       "    </tr>\n",
       "  </tbody>\n",
       "</table>\n",
       "</div>"
      ],
      "text/plain": [
       "   AGE  TOTAL_ORDERS  TOTAL_SPENT  AVG_ORDER_VALUE\n",
       "0   28             6          696              116\n",
       "1   40            11         1056               96\n",
       "2   30            10          382               38\n",
       "4   28             5          467               93\n",
       "5   65            11          773               70"
      ]
     },
     "execution_count": 53,
     "metadata": {},
     "output_type": "execute_result"
    }
   ],
   "source": [
    "X.head()"
   ]
  },
  {
   "cell_type": "code",
   "execution_count": 46,
   "id": "d7359d9e-7da7-4b8a-9f7e-d04c4ca212dc",
   "metadata": {},
   "outputs": [],
   "source": [
    "# Standardize\n",
    "scaler = StandardScaler()\n",
    "X_scaled = scaler.fit_transform(X)\n"
   ]
  },
  {
   "cell_type": "markdown",
   "id": "35b4dbe5-ab40-484a-b906-75136e375f59",
   "metadata": {},
   "source": [
    "Result of This Standardization:\n",
    "After applying StandardScaler():\n",
    "\n",
    "The mean of each feature becomes 0\n",
    "\n",
    "The standard deviation becomes 1\n",
    "\n",
    "Data gets centered around 0 and scaled evenly\n"
   ]
  },
  {
   "cell_type": "code",
   "execution_count": 47,
   "id": "1c38dc03-a995-4483-a3b3-5063e8bfd516",
   "metadata": {},
   "outputs": [
    {
     "name": "stderr",
     "output_type": "stream",
     "text": [
      "C:\\Users\\rehul.stark\\AppData\\Local\\Temp\\ipykernel_9292\\3833180375.py:3: SettingWithCopyWarning: \n",
      "A value is trying to be set on a copy of a slice from a DataFrame.\n",
      "Try using .loc[row_indexer,col_indexer] = value instead\n",
      "\n",
      "See the caveats in the documentation: https://pandas.pydata.org/pandas-docs/stable/user_guide/indexing.html#returning-a-view-versus-a-copy\n",
      "  df['cluster'] = kmeans.fit_predict(X_scaled)\n"
     ]
    }
   ],
   "source": [
    "# Apply K-Means\n",
    "kmeans = KMeans(n_clusters=4, random_state=42)\n",
    "df['cluster'] = kmeans.fit_predict(X_scaled)\n"
   ]
  },
  {
   "cell_type": "code",
   "execution_count": 49,
   "id": "ff2d53f9-5d2b-4d60-8fff-6c184a64895d",
   "metadata": {},
   "outputs": [
    {
     "data": {
      "image/png": "[encoded data removed]",
      "text/plain": [
       "<Figure size 1000x600 with 1 Axes>"
      ]
     },
     "metadata": {},
     "output_type": "display_data"
    }
   ],
   "source": [
    "# Plot Total Orders vs Total Spent by Cluster\n",
    "plt.figure(figsize=(10,6))\n",
    "sns.scatterplot(data=df, x='TOTAL_ORDERS', y='TOTAL_SPENT', hue='cluster', palette='Set2')\n",
    "plt.title(\"Customer Segments: Total Orders vs Total Spent\")\n",
    "plt.xlabel(\"Total Orders\")\n",
    "plt.ylabel(\"Total Spent\")\n",
    "plt.grid(True)\n",
    "plt.show()\n"
   ]
  },
  {
   "cell_type": "code",
   "execution_count": 54,
   "id": "ddb6bce1-a647-41fc-b571-dae6f4b1fbf3",
   "metadata": {},
   "outputs": [
    {
     "data": {
      "text/plain": [
       "CUSTOMER_ID           int32\n",
       "GENDER               object\n",
       "AGE                    int8\n",
       "COUNTRY              object\n",
       "SIGNUP_DATE          object\n",
       "TOTAL_ORDERS           int8\n",
       "TOTAL_SPENT           int16\n",
       "AVG_ORDER_VALUE       int16\n",
       "LAST_ORDER_DATE      object\n",
       "IS_LOYAL_CUSTOMER    object\n",
       "dtype: object"
      ]
     },
     "execution_count": 54,
     "metadata": {},
     "output_type": "execute_result"
    }
   ],
   "source": [
    "Select_CUSTOMER_TRANX_UNQ.dtypes"
   ]
  },
  {
   "cell_type": "code",
   "execution_count": 57,
   "id": "d72362bc-02ae-4091-9c46-a263be6921ca",
   "metadata": {},
   "outputs": [
    {
     "name": "stderr",
     "output_type": "stream",
     "text": [
      "C:\\Users\\rehul.stark\\AppData\\Local\\Temp\\ipykernel_9292\\3021792108.py:2: SettingWithCopyWarning: \n",
      "A value is trying to be set on a copy of a slice from a DataFrame.\n",
      "Try using .loc[row_indexer,col_indexer] = value instead\n",
      "\n",
      "See the caveats in the documentation: https://pandas.pydata.org/pandas-docs/stable/user_guide/indexing.html#returning-a-view-versus-a-copy\n",
      "  df['IS_LOYAL_CUSTOMER'] = df['IS_LOYAL_CUSTOMER'].astype(str).str.upper().map({'TRUE': 1, 'FALSE': 0})\n"
     ]
    }
   ],
   "source": [
    "# Convert 'TRUE'/'FALSE' strings to numeric values\n",
    "df['IS_LOYAL_CUSTOMER'] = df['IS_LOYAL_CUSTOMER'].astype(str).str.upper().map({'TRUE': 1, 'FALSE': 0})"
   ]
  },
  {
   "cell_type": "code",
   "execution_count": 58,
   "id": "92dd812a-8b16-4fbe-9ca5-a9c5fb51ec7a",
   "metadata": {},
   "outputs": [],
   "source": [
    "# Group and summarize clusters\n",
    "cluster_summary = df.groupby('cluster').agg(\n",
    "    customer_count=('CUSTOMER_ID', 'count'),\n",
    "    avg_orders=('TOTAL_ORDERS', 'mean'),\n",
    "    avg_spent=('TOTAL_SPENT', 'mean'),\n",
    "    avg_aov=('AVG_ORDER_VALUE', 'mean'),\n",
    "    loyal_pct=('IS_LOYAL_CUSTOMER', lambda x: round(100 * x.sum() / len(x), 2))).reset_index()"
   ]
  },
  {
   "cell_type": "code",
   "execution_count": 59,
   "id": "b8dea36b-2cd4-42df-b66b-bca305aa04b8",
   "metadata": {},
   "outputs": [
    {
     "data": {
      "text/html": [
       "<div>\n",
       "<style scoped>\n",
       "    .dataframe tbody tr th:only-of-type {\n",
       "        vertical-align: middle;\n",
       "    }\n",
       "\n",
       "    .dataframe tbody tr th {\n",
       "        vertical-align: top;\n",
       "    }\n",
       "\n",
       "    .dataframe thead th {\n",
       "        text-align: right;\n",
       "    }\n",
       "</style>\n",
       "<table border=\"1\" class=\"dataframe\">\n",
       "  <thead>\n",
       "    <tr style=\"text-align: right;\">\n",
       "      <th></th>\n",
       "      <th>cluster</th>\n",
       "      <th>customer_count</th>\n",
       "      <th>avg_orders</th>\n",
       "      <th>avg_spent</th>\n",
       "      <th>avg_aov</th>\n",
       "      <th>loyal_pct</th>\n",
       "    </tr>\n",
       "  </thead>\n",
       "  <tbody>\n",
       "    <tr>\n",
       "      <th>0</th>\n",
       "      <td>0</td>\n",
       "      <td>51990</td>\n",
       "      <td>6.200692</td>\n",
       "      <td>750.720927</td>\n",
       "      <td>121.652318</td>\n",
       "      <td>0.00</td>\n",
       "    </tr>\n",
       "    <tr>\n",
       "      <th>1</th>\n",
       "      <td>1</td>\n",
       "      <td>45707</td>\n",
       "      <td>11.062441</td>\n",
       "      <td>1269.835780</td>\n",
       "      <td>116.419192</td>\n",
       "      <td>53.55</td>\n",
       "    </tr>\n",
       "    <tr>\n",
       "      <th>2</th>\n",
       "      <td>2</td>\n",
       "      <td>51012</td>\n",
       "      <td>7.543206</td>\n",
       "      <td>464.794558</td>\n",
       "      <td>62.878186</td>\n",
       "      <td>11.71</td>\n",
       "    </tr>\n",
       "    <tr>\n",
       "      <th>3</th>\n",
       "      <td>3</td>\n",
       "      <td>50668</td>\n",
       "      <td>7.651062</td>\n",
       "      <td>460.412746</td>\n",
       "      <td>61.224145</td>\n",
       "      <td>13.05</td>\n",
       "    </tr>\n",
       "  </tbody>\n",
       "</table>\n",
       "</div>"
      ],
      "text/plain": [
       "   cluster  customer_count  avg_orders    avg_spent     avg_aov  loyal_pct\n",
       "0        0           51990    6.200692   750.720927  121.652318       0.00\n",
       "1        1           45707   11.062441  1269.835780  116.419192      53.55\n",
       "2        2           51012    7.543206   464.794558   62.878186      11.71\n",
       "3        3           50668    7.651062   460.412746   61.224145      13.05"
      ]
     },
     "execution_count": 59,
     "metadata": {},
     "output_type": "execute_result"
    }
   ],
   "source": [
    "cluster_summary"
   ]
  },
  {
   "cell_type": "code",
   "execution_count": 60,
   "id": "4592f52a-d684-4e67-973d-92a8ede54b05",
   "metadata": {},
   "outputs": [],
   "source": [
    "# Add % of total customers\n",
    "cluster_summary['pct_of_customers'] = round((cluster_summary['customer_count'] / len(df)) * 100, 2)"
   ]
  },
  {
   "cell_type": "code",
   "execution_count": 61,
   "id": "c720dc79-d4c1-41e6-a8ff-1e558f6deb50",
   "metadata": {},
   "outputs": [
    {
     "data": {
      "text/html": [
       "<div>\n",
       "<style scoped>\n",
       "    .dataframe tbody tr th:only-of-type {\n",
       "        vertical-align: middle;\n",
       "    }\n",
       "\n",
       "    .dataframe tbody tr th {\n",
       "        vertical-align: top;\n",
       "    }\n",
       "\n",
       "    .dataframe thead th {\n",
       "        text-align: right;\n",
       "    }\n",
       "</style>\n",
       "<table border=\"1\" class=\"dataframe\">\n",
       "  <thead>\n",
       "    <tr style=\"text-align: right;\">\n",
       "      <th></th>\n",
       "      <th>cluster</th>\n",
       "      <th>customer_count</th>\n",
       "      <th>avg_orders</th>\n",
       "      <th>avg_spent</th>\n",
       "      <th>avg_aov</th>\n",
       "      <th>loyal_pct</th>\n",
       "      <th>pct_of_customers</th>\n",
       "    </tr>\n",
       "  </thead>\n",
       "  <tbody>\n",
       "    <tr>\n",
       "      <th>0</th>\n",
       "      <td>0</td>\n",
       "      <td>51990</td>\n",
       "      <td>6.200692</td>\n",
       "      <td>750.720927</td>\n",
       "      <td>121.652318</td>\n",
       "      <td>0.00</td>\n",
       "      <td>26.08</td>\n",
       "    </tr>\n",
       "    <tr>\n",
       "      <th>1</th>\n",
       "      <td>1</td>\n",
       "      <td>45707</td>\n",
       "      <td>11.062441</td>\n",
       "      <td>1269.835780</td>\n",
       "      <td>116.419192</td>\n",
       "      <td>53.55</td>\n",
       "      <td>22.92</td>\n",
       "    </tr>\n",
       "    <tr>\n",
       "      <th>2</th>\n",
       "      <td>2</td>\n",
       "      <td>51012</td>\n",
       "      <td>7.543206</td>\n",
       "      <td>464.794558</td>\n",
       "      <td>62.878186</td>\n",
       "      <td>11.71</td>\n",
       "      <td>25.59</td>\n",
       "    </tr>\n",
       "    <tr>\n",
       "      <th>3</th>\n",
       "      <td>3</td>\n",
       "      <td>50668</td>\n",
       "      <td>7.651062</td>\n",
       "      <td>460.412746</td>\n",
       "      <td>61.224145</td>\n",
       "      <td>13.05</td>\n",
       "      <td>25.41</td>\n",
       "    </tr>\n",
       "  </tbody>\n",
       "</table>\n",
       "</div>"
      ],
      "text/plain": [
       "   cluster  customer_count  avg_orders    avg_spent     avg_aov  loyal_pct  \\\n",
       "0        0           51990    6.200692   750.720927  121.652318       0.00   \n",
       "1        1           45707   11.062441  1269.835780  116.419192      53.55   \n",
       "2        2           51012    7.543206   464.794558   62.878186      11.71   \n",
       "3        3           50668    7.651062   460.412746   61.224145      13.05   \n",
       "\n",
       "   pct_of_customers  \n",
       "0             26.08  \n",
       "1             22.92  \n",
       "2             25.59  \n",
       "3             25.41  "
      ]
     },
     "execution_count": 61,
     "metadata": {},
     "output_type": "execute_result"
    }
   ],
   "source": [
    "cluster_summary"
   ]
  },
  {
   "cell_type": "code",
   "execution_count": null,
   "id": "165c834e-da58-48f7-b931-3f9307ae8299",
   "metadata": {},
   "outputs": [],
   "source": []
  },
  {
   "cell_type": "code",
   "execution_count": null,
   "id": "1526518e-1d65-40b2-8211-ea8a45cc312e",
   "metadata": {},
   "outputs": [],
   "source": []
  },
  {
   "cell_type": "code",
   "execution_count": null,
   "id": "8512b7db-9b0a-42ea-9690-60b65c089b30",
   "metadata": {},
   "outputs": [],
   "source": []
  },
  {
   "cell_type": "code",
   "execution_count": null,
   "id": "e419129c-b607-4e6e-babb-6b39933ad0bb",
   "metadata": {},
   "outputs": [],
   "source": []
  },
  {
   "cell_type": "code",
   "execution_count": null,
   "id": "399e8620-f98d-419c-bce5-3864bf06fc1f",
   "metadata": {},
   "outputs": [],
   "source": []
  }
 ],
 "metadata": {
  "kernelspec": {
   "display_name": "Python 3 (ipykernel)",
   "language": "python",
   "name": "python3"
  },
  "language_info": {
   "codemirror_mode": {
    "name": "ipython",
    "version": 3
   },
   "file_extension": ".py",
   "mimetype": "text/x-python",
   "name": "python",
   "nbconvert_exporter": "python",
   "pygments_lexer": "ipython3",
   "version": "3.12.7"
  }
 },
 "nbformat": 4,
 "nbformat_minor": 5
}
